{
 "cells": [
  {
   "cell_type": "markdown",
   "id": "d514637e",
   "metadata": {
    "papermill": {
     "duration": 0.006634,
     "end_time": "2022-08-14T03:33:24.758061",
     "exception": false,
     "start_time": "2022-08-14T03:33:24.751427",
     "status": "completed"
    },
    "tags": []
   },
   "source": [
    "**This notebook is an exercise in the [Feature Engineering](https://www.kaggle.com/learn/feature-engineering) course.  You can reference the tutorial at [this link](https://www.kaggle.com/ryanholbrook/creating-features).**\n",
    "\n",
    "---\n"
   ]
  },
  {
   "cell_type": "markdown",
   "id": "b00078b6",
   "metadata": {
    "papermill": {
     "duration": 0.004232,
     "end_time": "2022-08-14T03:33:24.767820",
     "exception": false,
     "start_time": "2022-08-14T03:33:24.763588",
     "status": "completed"
    },
    "tags": []
   },
   "source": [
    "# Introduction #\n",
    "\n",
    "In this exercise you'll start developing the features you identified in Exercise 2 as having the most potential. As you work through this exercise, you might take a moment to look at the data documentation again and consider whether the features we're creating make sense from a real-world perspective, and whether there are any useful combinations that stand out to you.\n",
    "\n",
    "Run this cell to set everything up!"
   ]
  },
  {
   "cell_type": "code",
   "execution_count": 1,
   "id": "a676e5c6",
   "metadata": {
    "execution": {
     "iopub.execute_input": "2022-08-14T03:33:24.779715Z",
     "iopub.status.busy": "2022-08-14T03:33:24.778571Z",
     "iopub.status.idle": "2022-08-14T03:33:26.279332Z",
     "shell.execute_reply": "2022-08-14T03:33:26.277640Z"
    },
    "papermill": {
     "duration": 1.511718,
     "end_time": "2022-08-14T03:33:26.284027",
     "exception": false,
     "start_time": "2022-08-14T03:33:24.772309",
     "status": "completed"
    },
    "tags": []
   },
   "outputs": [],
   "source": [
    "# Setup feedback system\n",
    "from learntools.core import binder\n",
    "binder.bind(globals())\n",
    "from learntools.feature_engineering_new.ex3 import *\n",
    "\n",
    "import numpy as np\n",
    "import pandas as pd\n",
    "from sklearn.model_selection import cross_val_score\n",
    "from xgboost import XGBRegressor\n",
    "\n",
    "\n",
    "def score_dataset(X, y, model=XGBRegressor()):\n",
    "    # Label encoding for categoricals\n",
    "    for colname in X.select_dtypes([\"category\", \"object\"]):\n",
    "        X[colname], _ = X[colname].factorize()\n",
    "    # Metric for Housing competition is RMSLE (Root Mean Squared Log Error)\n",
    "    score = cross_val_score(\n",
    "        model, X, y, cv=5, scoring=\"neg_mean_squared_log_error\",\n",
    "    )\n",
    "    score = -1 * score.mean()\n",
    "    score = np.sqrt(score)\n",
    "    return score\n",
    "\n",
    "\n",
    "# Prepare data\n",
    "df = pd.read_csv(\"../input/fe-course-data/ames.csv\")\n",
    "X = df.copy()\n",
    "y = X.pop(\"SalePrice\")"
   ]
  },
  {
   "cell_type": "markdown",
   "id": "cb39ab71",
   "metadata": {
    "papermill": {
     "duration": 0.004499,
     "end_time": "2022-08-14T03:33:26.295211",
     "exception": false,
     "start_time": "2022-08-14T03:33:26.290712",
     "status": "completed"
    },
    "tags": []
   },
   "source": [
    "-------------------------------------------------------------------------------\n",
    "\n",
    "Let's start with a few mathematical combinations. We'll focus on features describing areas -- having the same units (square-feet) makes it easy to combine them in sensible ways. Since we're using XGBoost (a tree-based model), we'll focus on ratios and sums.\n",
    "\n",
    "# 1) Create Mathematical Transforms\n",
    "\n",
    "Create the following features:\n",
    "\n",
    "- `LivLotRatio`: the ratio of `GrLivArea` to `LotArea`\n",
    "- `Spaciousness`: the sum of `FirstFlrSF` and `SecondFlrSF` divided by `TotRmsAbvGrd`\n",
    "- `TotalOutsideSF`: the sum of `WoodDeckSF`, `OpenPorchSF`, `EnclosedPorch`, `Threeseasonporch`, and `ScreenPorch`"
   ]
  },
  {
   "cell_type": "code",
   "execution_count": 2,
   "id": "3c47ad3b",
   "metadata": {
    "execution": {
     "iopub.execute_input": "2022-08-14T03:33:26.306271Z",
     "iopub.status.busy": "2022-08-14T03:33:26.305861Z",
     "iopub.status.idle": "2022-08-14T03:33:26.343166Z",
     "shell.execute_reply": "2022-08-14T03:33:26.342045Z"
    },
    "lines_to_next_cell": 0,
    "papermill": {
     "duration": 0.045532,
     "end_time": "2022-08-14T03:33:26.345481",
     "exception": false,
     "start_time": "2022-08-14T03:33:26.299949",
     "status": "completed"
    },
    "tags": []
   },
   "outputs": [
    {
     "data": {
      "application/javascript": [
       "parent.postMessage({\"jupyterEvent\": \"custom.exercise_interaction\", \"data\": {\"outcomeType\": 1, \"valueTowardsCompletion\": 0.2, \"interactionType\": 1, \"questionType\": 2, \"questionId\": \"1_Q1\", \"learnToolsVersion\": \"0.3.4\", \"failureMessage\": \"\", \"exceptionClass\": \"\", \"trace\": \"\"}}, \"*\")"
      ],
      "text/plain": [
       "<IPython.core.display.Javascript object>"
      ]
     },
     "metadata": {},
     "output_type": "display_data"
    },
    {
     "data": {
      "text/markdown": [
       "<span style=\"color:#33cc33\">Correct</span>"
      ],
      "text/plain": [
       "Correct"
      ]
     },
     "metadata": {},
     "output_type": "display_data"
    }
   ],
   "source": [
    "# YOUR CODE HERE\n",
    "X_1 = pd.DataFrame()  # dataframe to hold new features\n",
    "\n",
    "X_1[\"LivLotRatio\"] = df.GrLivArea / df.LotArea\n",
    "X_1[\"Spaciousness\"] = (df.FirstFlrSF + df.SecondFlrSF) / df.TotRmsAbvGrd\n",
    "X_1[\"TotalOutsideSF\"] = df.WoodDeckSF + df.OpenPorchSF + df.EnclosedPorch + df.Threeseasonporch + df.ScreenPorch\n",
    "\n",
    "\n",
    "# Check your answer\n",
    "q_1.check()"
   ]
  },
  {
   "cell_type": "markdown",
   "id": "5c57e72d",
   "metadata": {
    "papermill": {
     "duration": 0.004576,
     "end_time": "2022-08-14T03:33:26.355139",
     "exception": false,
     "start_time": "2022-08-14T03:33:26.350563",
     "status": "completed"
    },
    "tags": []
   },
   "source": [
    "-------------------------------------------------------------------------------\n",
    "\n",
    "If you've discovered an interaction effect between a numeric feature and a categorical feature, you might want to model it explicitly using a one-hot encoding, like so:\n",
    "\n",
    "```\n",
    "# One-hot encode Categorical feature, adding a column prefix \"Cat\"\n",
    "X_new = pd.get_dummies(df.Categorical, prefix=\"Cat\")\n",
    "\n",
    "# Multiply row-by-row\n",
    "X_new = X_new.mul(df.Continuous, axis=0)\n",
    "\n",
    "# Join the new features to the feature set\n",
    "X = X.join(X_new)\n",
    "```\n",
    "\n",
    "# 2) Interaction with a Categorical\n",
    "\n",
    "We discovered an interaction between `BldgType` and `GrLivArea` in Exercise 2. Now create their interaction features."
   ]
  },
  {
   "cell_type": "code",
   "execution_count": 3,
   "id": "a0523579",
   "metadata": {
    "execution": {
     "iopub.execute_input": "2022-08-14T03:33:26.367834Z",
     "iopub.status.busy": "2022-08-14T03:33:26.366844Z",
     "iopub.status.idle": "2022-08-14T03:33:26.385566Z",
     "shell.execute_reply": "2022-08-14T03:33:26.384444Z"
    },
    "lines_to_next_cell": 0,
    "papermill": {
     "duration": 0.028721,
     "end_time": "2022-08-14T03:33:26.388588",
     "exception": false,
     "start_time": "2022-08-14T03:33:26.359867",
     "status": "completed"
    },
    "tags": []
   },
   "outputs": [
    {
     "data": {
      "application/javascript": [
       "parent.postMessage({\"jupyterEvent\": \"custom.exercise_interaction\", \"data\": {\"outcomeType\": 1, \"valueTowardsCompletion\": 0.2, \"interactionType\": 1, \"questionType\": 2, \"questionId\": \"2_Q2\", \"learnToolsVersion\": \"0.3.4\", \"failureMessage\": \"\", \"exceptionClass\": \"\", \"trace\": \"\"}}, \"*\")"
      ],
      "text/plain": [
       "<IPython.core.display.Javascript object>"
      ]
     },
     "metadata": {},
     "output_type": "display_data"
    },
    {
     "data": {
      "text/markdown": [
       "<span style=\"color:#33cc33\">Correct</span>"
      ],
      "text/plain": [
       "Correct"
      ]
     },
     "metadata": {},
     "output_type": "display_data"
    }
   ],
   "source": [
    "# YOUR CODE HERE\n",
    "# One-hot encode BldgType. Use `prefix=\"Bldg\"` in `get_dummies`\n",
    "X_2 = pd.get_dummies(df.BldgType, prefix=\"Bldg\")\n",
    "X_2 = X_2.mul(df.GrLivArea, axis=0)\n",
    "\n",
    "# Check your answer\n",
    "q_2.check()"
   ]
  },
  {
   "cell_type": "markdown",
   "id": "fc357f17",
   "metadata": {
    "lines_to_next_cell": 0,
    "papermill": {
     "duration": 0.007223,
     "end_time": "2022-08-14T03:33:26.403474",
     "exception": false,
     "start_time": "2022-08-14T03:33:26.396251",
     "status": "completed"
    },
    "tags": []
   },
   "source": [
    "# 3) Count Feature\n",
    "\n",
    "Let's try creating a feature that describes how many kinds of outdoor areas a dwelling has. Create a feature `PorchTypes` that counts how many of the following are greater than 0.0:\n",
    "\n",
    "```\n",
    "WoodDeckSF\n",
    "OpenPorchSF\n",
    "EnclosedPorch\n",
    "Threeseasonporch\n",
    "ScreenPorch\n",
    "```"
   ]
  },
  {
   "cell_type": "code",
   "execution_count": 4,
   "id": "068beab2",
   "metadata": {
    "execution": {
     "iopub.execute_input": "2022-08-14T03:33:26.421822Z",
     "iopub.status.busy": "2022-08-14T03:33:26.420840Z",
     "iopub.status.idle": "2022-08-14T03:33:26.441235Z",
     "shell.execute_reply": "2022-08-14T03:33:26.440147Z"
    },
    "lines_to_next_cell": 0,
    "papermill": {
     "duration": 0.032124,
     "end_time": "2022-08-14T03:33:26.443976",
     "exception": false,
     "start_time": "2022-08-14T03:33:26.411852",
     "status": "completed"
    },
    "tags": []
   },
   "outputs": [
    {
     "data": {
      "application/javascript": [
       "parent.postMessage({\"jupyterEvent\": \"custom.exercise_interaction\", \"data\": {\"outcomeType\": 1, \"valueTowardsCompletion\": 0.2, \"interactionType\": 1, \"questionType\": 2, \"questionId\": \"3_Q3\", \"learnToolsVersion\": \"0.3.4\", \"failureMessage\": \"\", \"exceptionClass\": \"\", \"trace\": \"\"}}, \"*\")"
      ],
      "text/plain": [
       "<IPython.core.display.Javascript object>"
      ]
     },
     "metadata": {},
     "output_type": "display_data"
    },
    {
     "data": {
      "text/markdown": [
       "<span style=\"color:#33cc33\">Correct</span>"
      ],
      "text/plain": [
       "Correct"
      ]
     },
     "metadata": {},
     "output_type": "display_data"
    }
   ],
   "source": [
    "X_3 = pd.DataFrame()\n",
    "\n",
    "X_3[\"PorchTypes\"] = df[[\n",
    "    \"WoodDeckSF\",\n",
    "    \"OpenPorchSF\",\n",
    "    \"EnclosedPorch\",\n",
    "    \"Threeseasonporch\",\n",
    "    \"ScreenPorch\",\n",
    "]].gt(0.0).sum(axis=1)\n",
    "\n",
    "# Check your answer\n",
    "q_3.check()"
   ]
  },
  {
   "cell_type": "markdown",
   "id": "036ab08e",
   "metadata": {
    "papermill": {
     "duration": 0.005325,
     "end_time": "2022-08-14T03:33:26.455119",
     "exception": false,
     "start_time": "2022-08-14T03:33:26.449794",
     "status": "completed"
    },
    "tags": []
   },
   "source": [
    "# 4) Break Down a Categorical Feature\n",
    "\n",
    "`MSSubClass` describes the type of a dwelling:"
   ]
  },
  {
   "cell_type": "code",
   "execution_count": 5,
   "id": "9c2e07ae",
   "metadata": {
    "execution": {
     "iopub.execute_input": "2022-08-14T03:33:26.468643Z",
     "iopub.status.busy": "2022-08-14T03:33:26.467710Z",
     "iopub.status.idle": "2022-08-14T03:33:26.477330Z",
     "shell.execute_reply": "2022-08-14T03:33:26.476043Z"
    },
    "papermill": {
     "duration": 0.019283,
     "end_time": "2022-08-14T03:33:26.479739",
     "exception": false,
     "start_time": "2022-08-14T03:33:26.460456",
     "status": "completed"
    },
    "tags": []
   },
   "outputs": [
    {
     "data": {
      "text/plain": [
       "array(['One_Story_1946_and_Newer_All_Styles', 'Two_Story_1946_and_Newer',\n",
       "       'One_Story_PUD_1946_and_Newer',\n",
       "       'One_and_Half_Story_Finished_All_Ages', 'Split_Foyer',\n",
       "       'Two_Story_PUD_1946_and_Newer', 'Split_or_Multilevel',\n",
       "       'One_Story_1945_and_Older', 'Duplex_All_Styles_and_Ages',\n",
       "       'Two_Family_conversion_All_Styles_and_Ages',\n",
       "       'One_and_Half_Story_Unfinished_All_Ages',\n",
       "       'Two_Story_1945_and_Older', 'Two_and_Half_Story_All_Ages',\n",
       "       'One_Story_with_Finished_Attic_All_Ages',\n",
       "       'PUD_Multilevel_Split_Level_Foyer',\n",
       "       'One_and_Half_Story_PUD_All_Ages'], dtype=object)"
      ]
     },
     "execution_count": 5,
     "metadata": {},
     "output_type": "execute_result"
    }
   ],
   "source": [
    "df.MSSubClass.unique()"
   ]
  },
  {
   "cell_type": "markdown",
   "id": "1e1bf0ac",
   "metadata": {
    "papermill": {
     "duration": 0.007182,
     "end_time": "2022-08-14T03:33:26.494217",
     "exception": false,
     "start_time": "2022-08-14T03:33:26.487035",
     "status": "completed"
    },
    "tags": []
   },
   "source": [
    "You can see that there is a more general categorization described (roughly) by the first word of each category. Create a feature containing only these first words by splitting `MSSubClass` at the first underscore `_`. (Hint: In the `split` method use an argument `n=1`.)"
   ]
  },
  {
   "cell_type": "code",
   "execution_count": 6,
   "id": "3342db6f",
   "metadata": {
    "execution": {
     "iopub.execute_input": "2022-08-14T03:33:26.510435Z",
     "iopub.status.busy": "2022-08-14T03:33:26.509069Z",
     "iopub.status.idle": "2022-08-14T03:33:26.541376Z",
     "shell.execute_reply": "2022-08-14T03:33:26.540113Z"
    },
    "lines_to_next_cell": 0,
    "papermill": {
     "duration": 0.042808,
     "end_time": "2022-08-14T03:33:26.544391",
     "exception": false,
     "start_time": "2022-08-14T03:33:26.501583",
     "status": "completed"
    },
    "tags": []
   },
   "outputs": [
    {
     "data": {
      "application/javascript": [
       "parent.postMessage({\"jupyterEvent\": \"custom.exercise_interaction\", \"data\": {\"outcomeType\": 1, \"valueTowardsCompletion\": 0.2, \"interactionType\": 1, \"questionType\": 2, \"questionId\": \"4_Q4\", \"learnToolsVersion\": \"0.3.4\", \"failureMessage\": \"\", \"exceptionClass\": \"\", \"trace\": \"\"}}, \"*\")"
      ],
      "text/plain": [
       "<IPython.core.display.Javascript object>"
      ]
     },
     "metadata": {},
     "output_type": "display_data"
    },
    {
     "data": {
      "text/markdown": [
       "<span style=\"color:#33cc33\">Correct</span>"
      ],
      "text/plain": [
       "Correct"
      ]
     },
     "metadata": {},
     "output_type": "display_data"
    }
   ],
   "source": [
    "X_4 = pd.DataFrame()\n",
    "\n",
    "# YOUR CODE HERE\n",
    "X_4[\"MSClass\"] = df.MSSubClass.str.split(\"_\", n=1, expand=True)[0]\n",
    "\n",
    "# Check your answer\n",
    "q_4.check()"
   ]
  },
  {
   "cell_type": "markdown",
   "id": "ae6c781b",
   "metadata": {
    "papermill": {
     "duration": 0.00616,
     "end_time": "2022-08-14T03:33:26.557634",
     "exception": false,
     "start_time": "2022-08-14T03:33:26.551474",
     "status": "completed"
    },
    "tags": []
   },
   "source": [
    "# 5) Use a Grouped Transform\n",
    "\n",
    "The value of a home often depends on how it compares to typical homes in its neighborhood. Create a feature `MedNhbdArea` that describes the *median* of `GrLivArea` grouped on `Neighborhood`."
   ]
  },
  {
   "cell_type": "code",
   "execution_count": 7,
   "id": "a140518e",
   "metadata": {
    "execution": {
     "iopub.execute_input": "2022-08-14T03:33:26.573507Z",
     "iopub.status.busy": "2022-08-14T03:33:26.571957Z",
     "iopub.status.idle": "2022-08-14T03:33:26.595238Z",
     "shell.execute_reply": "2022-08-14T03:33:26.594285Z"
    },
    "lines_to_next_cell": 0,
    "papermill": {
     "duration": 0.033969,
     "end_time": "2022-08-14T03:33:26.598110",
     "exception": false,
     "start_time": "2022-08-14T03:33:26.564141",
     "status": "completed"
    },
    "tags": []
   },
   "outputs": [
    {
     "data": {
      "application/javascript": [
       "parent.postMessage({\"jupyterEvent\": \"custom.exercise_interaction\", \"data\": {\"outcomeType\": 1, \"valueTowardsCompletion\": 0.2, \"interactionType\": 1, \"questionType\": 2, \"questionId\": \"5_Q5\", \"learnToolsVersion\": \"0.3.4\", \"failureMessage\": \"\", \"exceptionClass\": \"\", \"trace\": \"\"}}, \"*\")"
      ],
      "text/plain": [
       "<IPython.core.display.Javascript object>"
      ]
     },
     "metadata": {},
     "output_type": "display_data"
    },
    {
     "data": {
      "text/markdown": [
       "<span style=\"color:#33cc33\">Correct</span>"
      ],
      "text/plain": [
       "Correct"
      ]
     },
     "metadata": {},
     "output_type": "display_data"
    }
   ],
   "source": [
    "X_5 = pd.DataFrame()\n",
    "\n",
    "# YOUR CODE HERE\n",
    "X_5[\"MedNhbdArea\"] = df.groupby(\"Neighborhood\")[\"GrLivArea\"].transform(\"median\")\n",
    "\n",
    "# Check your answer\n",
    "q_5.check()"
   ]
  },
  {
   "cell_type": "markdown",
   "id": "bebcde02",
   "metadata": {
    "papermill": {
     "duration": 0.008582,
     "end_time": "2022-08-14T03:33:26.616206",
     "exception": false,
     "start_time": "2022-08-14T03:33:26.607624",
     "status": "completed"
    },
    "tags": []
   },
   "source": [
    "Now you've made your first new feature set! If you like, you can run the cell below to score the model with all of your new features added:"
   ]
  },
  {
   "cell_type": "code",
   "execution_count": 8,
   "id": "0fc11c44",
   "metadata": {
    "execution": {
     "iopub.execute_input": "2022-08-14T03:33:26.638001Z",
     "iopub.status.busy": "2022-08-14T03:33:26.636346Z",
     "iopub.status.idle": "2022-08-14T03:33:32.369874Z",
     "shell.execute_reply": "2022-08-14T03:33:32.368480Z"
    },
    "papermill": {
     "duration": 5.747309,
     "end_time": "2022-08-14T03:33:32.373095",
     "exception": false,
     "start_time": "2022-08-14T03:33:26.625786",
     "status": "completed"
    },
    "tags": []
   },
   "outputs": [
    {
     "data": {
      "text/plain": [
       "0.13847331710099203"
      ]
     },
     "execution_count": 8,
     "metadata": {},
     "output_type": "execute_result"
    }
   ],
   "source": [
    "X_new = X.join([X_1, X_2, X_3, X_4, X_5])\n",
    "score_dataset(X_new, y)"
   ]
  },
  {
   "cell_type": "markdown",
   "id": "b1f78bcb",
   "metadata": {
    "papermill": {
     "duration": 0.005915,
     "end_time": "2022-08-14T03:33:32.386500",
     "exception": false,
     "start_time": "2022-08-14T03:33:32.380585",
     "status": "completed"
    },
    "tags": []
   },
   "source": [
    "# Keep Going #\n",
    "\n",
    "[**Untangle spatial relationships**](https://www.kaggle.com/ryanholbrook/clustering-with-k-means) by adding cluster labels to your dataset."
   ]
  },
  {
   "cell_type": "markdown",
   "id": "1d9f1071",
   "metadata": {
    "papermill": {
     "duration": 0.006611,
     "end_time": "2022-08-14T03:33:32.399228",
     "exception": false,
     "start_time": "2022-08-14T03:33:32.392617",
     "status": "completed"
    },
    "tags": []
   },
   "source": [
    "---\n",
    "\n",
    "\n",
    "\n",
    "\n",
    "*Have questions or comments? Visit the [course discussion forum](https://www.kaggle.com/learn/feature-engineering/discussion) to chat with other learners.*"
   ]
  }
 ],
 "metadata": {
  "kernelspec": {
   "display_name": "Python 3",
   "language": "python",
   "name": "python3"
  },
  "language_info": {
   "codemirror_mode": {
    "name": "ipython",
    "version": 3
   },
   "file_extension": ".py",
   "mimetype": "text/x-python",
   "name": "python",
   "nbconvert_exporter": "python",
   "pygments_lexer": "ipython3",
   "version": "3.7.12"
  },
  "papermill": {
   "default_parameters": {},
   "duration": 17.615208,
   "end_time": "2022-08-14T03:33:33.129199",
   "environment_variables": {},
   "exception": null,
   "input_path": "__notebook__.ipynb",
   "output_path": "__notebook__.ipynb",
   "parameters": {},
   "start_time": "2022-08-14T03:33:15.513991",
   "version": "2.3.4"
  }
 },
 "nbformat": 4,
 "nbformat_minor": 5
}
